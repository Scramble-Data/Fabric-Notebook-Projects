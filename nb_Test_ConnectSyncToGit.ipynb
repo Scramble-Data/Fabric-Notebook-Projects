{
 "cells": [
  {
   "cell_type": "code",
   "execution_count": null,
   "id": "80e90bd9-101f-4edf-8621-73a2fc83e4cd",
   "metadata": {
    "microsoft": {
     "language": "python",
     "language_group": "synapse_pyspark"
    }
   },
   "outputs": [],
   "source": [
    "from synapse.ml.fabric.token_utils import TokenUtils\n",
    "import sempy.fabric as fabric\n",
    "import base64\n",
    "import requests\n"
   ]
  },
  {
   "cell_type": "code",
   "execution_count": null,
   "id": "5aa07e60-39c2-415c-bbe5-d1d2acadf271",
   "metadata": {
    "microsoft": {
     "language": "python",
     "language_group": "synapse_pyspark"
    }
   },
   "outputs": [],
   "source": [
    "def get__token(_=\"pbi\"):\n",
    "    return TokenUtils().get_aad_token()\n",
    "client = fabric.FabricRestClient(token_provider=get_super_duper_master_token)   \n",
    "\n",
    "def get_workspaceHead(workspaceId: str):\n",
    "    response = client.get(f'https://api.fabric.microsoft.com/v1/workspaces/{workspaceId}/git/status')\n",
    "    workspaceHead = response.json().get('workspaceHead')\n",
    "    return workspaceHead\n",
   ]
  },
  {
   "cell_type": "markdown",
   "id": "de00523d-1f59-4fe2-bced-3eca736ddb32",
   "metadata": {
    "microsoft": {
     "language": "python",
     "language_group": "synapse_pyspark"
    },
    "nteract": {
     "transient": {
      "deleting": false
     }
    }
   },
   "source": [
    "## Parameters"
   ]
  },
  {
   "cell_type": "code",
   "execution_count": null,
   "id": "41938bfe-503b-4d50-81b2-d2154dd938ed",
   "metadata": {
    "microsoft": {
     "language": "python",
     "language_group": "synapse_pyspark"
    }
   },
   "outputs": [],
   "source": [
    "#Importerade bibliotek\n",
    "from synapse.ml.fabric.token_utils import TokenUtils\n",
    "import sempy.fabric as fabric\n",
    "import requests\n",
    "import base64\n",
    "\n",
    "#Funktioner\n",
    "def get_super_duper_master_token(_=\"pbi\"):\n",
    "    return TokenUtils().get_aad_token()\n",
    "client = fabric.FabricRestClient(token_provider=get_super_duper_master_token)   \n",
    "\n",
    "def get_workspaceHead(workspaceId: str):\n",
    "    response = client.get(f'https://api.fabric.microsoft.com/v1/workspaces/{workspaceId}/git/status')\n",
    "    workspaceHead = response.json().get('workspaceHead')\n",
    "    return workspaceHead\n",
    "\n",
    "\n",
    "organization = \"OrganizationName\"\n",
    "project = 'DevOpsProjectId'\n",
    "team = 'DevOpsTeamId'\n",
    "repository_id = \"DevOpsRepositoryId\"\n",
    "personal_access_token = notebookutils.credentials.getSecret(\"YourKeyvault\", \"DevOpsAccessKey\")\n",
    "\n",
    "# Base64 encode for Basic Auth\n",
    "credentials = f\":{personal_access_token}\"\n",
    "token = base64.b64encode(credentials.encode()).decode()\n",
    "\n",
    "headers = {\n",
    "    'Authorization': f'Basic {token}',\n",
    "    'Content-Type': 'application/json'\n",
    "}"
   ]
  },
  {
   "cell_type": "code",
   "execution_count": null,
   "id": "e0e4622f-1f8e-4e1e-a01a-10277a7a2bee",
   "metadata": {
    "microsoft": {
     "language": "python",
     "language_group": "synapse_pyspark"
    }
   },
   "outputs": [],
   "source": [
    "new_branch_name = \"BRANCHNAME\"\n",
    "NewWorkspaceName = \"WORKSPACENAME\""
   ]
  },
  {
   "cell_type": "code",
   "execution_count": null,
   "id": "2463e05c-2819-4880-95f3-89d6ce4606a6",
   "metadata": {
    "microsoft": {
     "language": "python",
     "language_group": "synapse_pyspark"
    }
   },
   "outputs": [],
   "source": [
    "#Get the last commit from the main you want to branch out from\n",
    "refs_url = f\"https://dev.azure.com/{organization}/{project}/_apis/git/repositories/{repository_id}/refs?filter=heads/main&api-version=6.0\"\n",
    "refs_response = requests.get(refs_url, headers=headers)\n",
    "main_commit_id = refs_response.json()[\"value\"][0][\"objectId\"]\n"
   ]
  },
  {
   "cell_type": "code",
   "execution_count": null,
   "id": "597fa603-0580-4cfd-b7d6-3e01e4ac49ea",
   "metadata": {
    "microsoft": {
     "language": "python",
     "language_group": "synapse_pyspark"
    }
   },
   "outputs": [],
   "source": [
    "#Create Branch\n",
    "payload = [{\n",
    "        \"name\": f\"refs/heads/feature/{new_branch_name}\",\n",
    "        \"oldObjectId\": \"0000000000000000000000000000000000000000\",\n",
    "        \"newObjectId\": main_commit_id\n",
    "  }]\n",
    "\n",
    "response = requests.post(f'https://dev.azure.com/{organization}/{project}/_apis/git/repositories/{repository_id}/refs?api-version=7.1', headers=headers, json=payload)\n",
    "print(response.status_code)\n",
    "response.json()"
   ]
  },
  {
   "cell_type": "code",
   "execution_count": null,
   "id": "df02e5e9-e4ab-45cd-a622-c948df1745ff",
   "metadata": {
    "microsoft": {
     "language": "python",
     "language_group": "synapse_pyspark"
    }
   },
   "outputs": [],
   "source": [
    "#Create a workspace, I just ran a list workspace to get the Capacity ID info\n",
    "body = {\n",
    "  \"displayName\": NewWorkspaceName,\n",
    "  \"capacityId\": \"Your Capacity ID\",\n",
    "  \"capacityRegion\": \"North Europe\",\n",
    "}\n",
    "\n",
    "response = client.post(f\"https://api.fabric.microsoft.com/v1/workspaces\", json = body)\n",
    "response.status_code\n",
    "workspaceId = response.json().get('id')\n",
    "\n",
    "#Connect to Branch\n",
    "body = {\n",
    "  \"gitProviderDetails\": {\n",
    "    \"organizationName\": \"DevOps OrganisationName\",\n",
    "    \"projectName\": \"DevOps ProjectName\",\n",
    "    \"gitProviderType\": \"AzureDevOps\",\n",
    "    \"repositoryName\": \"repositoryName\",\n",
    "    \"branchName\":f\"feature/{new_branch_name}\",\n",
    "    \"directoryName\": \"\"\n",
    "  }\n",
    "}\n",
    "\n",
    "response = client.post(f'https://api.fabric.microsoft.com/v1/workspaces/{workspaceId}/git/connect', json = body)\n",
    "response.status_code"
   ]
  },
  {
   "cell_type": "code",
   "execution_count": null,
   "id": "541a5c07-03a7-4586-bb02-c18bcf878655",
   "metadata": {
    "microsoft": {
     "language": "python",
     "language_group": "synapse_pyspark"
    }
   },
   "outputs": [],
   "source": [
    "#Create a connection\n",
    "response = client.post(f'https://api.fabric.microsoft.com/v1/workspaces/{workspaceId}/git/initializeConnection')\n",
    "response.json()"
   ]
  },
  {
   "cell_type": "code",
   "execution_count": null,
   "id": "e7f59b95-7be9-4354-8daa-d2fdb45b9f71",
   "metadata": {
    "microsoft": {
     "language": "python",
     "language_group": "synapse_pyspark"
    }
   },
   "outputs": [],
   "source": [
    "#Update from Git\n",
    "body = {\n",
    "  \"workspaceHead\": None,\n",
    "  \"remoteCommitHash\": \"66a4f4526a63b34c6eb913b6a2f1275da060136b\",\n",
    "  \"conflictResolution\": {\n",
    "    \"conflictResolutionType\": \"Workspace\",\n",
    "    \"conflictResolutionPolicy\": \"PreferWorkspace\"\n",
    "  },\n",
    "  \"options\": {\n",
    "    \"allowOverrideItems\": True\n",
    "  }\n",
    "}\n",
    "\n",
    "response = client.post(f'https://api.fabric.microsoft.com/v1/workspaces/{workspaceId}/git/updateFromGit', json = body)\n",
    "response.status_code"
   ]
  },
  {
   "cell_type": "code",
   "execution_count": null,
   "id": "f9a4ce8e-fe96-4ca3-a74b-f0252dada2b2",
   "metadata": {
    "microsoft": {
     "language": "python",
     "language_group": "synapse_pyspark"
    }
   },
   "outputs": [],
   "source": [
    "git_sync_checker(workspaceId)"
   ]
  }
 ],
 "metadata": {
  "dependencies": {},
  "kernel_info": {
   "name": "synapse_pyspark"
  },
  "kernelspec": {
   "display_name": "synapse_pyspark",
   "name": "synapse_pyspark"
  },
  "language_info": {
   "name": "python"
  },
  "microsoft": {
   "language": "python",
   "language_group": "synapse_pyspark",
   "ms_spell_check": {
    "ms_spell_check_language": "en"
   }
  },
  "nteract": {
   "version": "nteract-front-end@1.0.0"
  },
  "spark_compute": {
   "compute_id": "/trident/default",
   "session_options": {
    "conf": {
     "spark.synapse.nbs.session.timeout": "1200000"
    }
   }
  }
 },
 "nbformat": 4,
 "nbformat_minor": 5
}
