{
 "cells": [
  {
   "cell_type": "code",
   "execution_count": null,
   "id": "80e90bd9-101f-4edf-8621-73a2fc83e4cd",
   "metadata": {
    "microsoft": {
     "language": "python",
     "language_group": "synapse_pyspark"
    }
   },
   "outputs": [
    {
     "data": {
      "application/vnd.livy.statement-meta+json": {
       "execution_finish_time": "2025-10-02T07:42:41.924875Z",
       "execution_start_time": "2025-10-02T07:42:41.6660926Z",
       "livy_statement_state": "available",
       "normalized_state": "finished",
       "parent_msg_id": "0e87bf8c-8cf6-440a-9857-938293e3de26",
       "queued_time": "2025-10-02T07:42:41.6646635Z",
       "session_id": "628282f3-2bf5-4789-a4d8-c327eee03b0a",
       "session_start_time": null,
       "spark_pool": null,
       "state": "finished",
       "statement_id": 14,
       "statement_ids": [
        14
       ]
      },
     
     },
     "metadata": {},
     "output_type": "display_data"
    }
   ],
   "source": [
    "from synapse.ml.fabric.token_utils import TokenUtils\n",
    "import sempy.fabric as fabric\n",
    "import base64\n",
    "import requests\n"
   ]
  },
  {
   "cell_type": "code",
   "execution_count": null,
   "id": "5aa07e60-39c2-415c-bbe5-d1d2acadf271",
   "metadata": {
    "microsoft": {
     "language": "python",
     "language_group": "synapse_pyspark"
    }
   },
 
     },
     "metadata": {},
     "output_type": "display_data"
    }
   ],
   "source": [
    "def get__token(_=\"pbi\"):\n",
    "    return TokenUtils().get_aad_token()\n",
    "client = fabric.FabricRestClient(token_provider=get_super_duper_master_token)   \n",
    "\n",
    "def get_workspaceHead(workspaceId: str):\n",
    "    response = client.get(f'https://api.fabric.microsoft.com/v1/workspaces/{workspaceId}/git/status')\n",
    "    workspaceHead = response.json().get('workspaceHead')\n",
    "    return workspaceHead\n",
    "def git_sync_checker(workspaceId: str):\n",
    "    time.sleep(60)\n",
    "    max_attempts = 10 #Max antal försök\n",
    "    attempts = 0 #Antal försök som vi börjar på\n",
    "    response = client.get(f'https://api.fabric.microsoft.com/v1/workspaces/{workspaceId}/git/status')\n",
    "    Data = response.json()['changes']\n",
    "    changelog = []\n",
    "    for row in Data:\n",
    "        if row['workspaceChange'] == 'Added':\n",
    "            changelog.append(row)\n",
    "    \n",
    "    while changelog != [] and attempts < max_attempts: #Påstående som säger att medan EndTme är tom och försöker är minre än 10 så kommer loopen köras\n",
    "                time.sleep(180) #Väntar 10 sekunder för att ge uppdateringen tid att gå igenom\n",
    "                attempts += 1 #Lägger till +1 i försöken\n",
    "                response = client.get(f'https://api.fabric.microsoft.com/v1/workspaces/{workspaceId}/git/status')\n",
    "                Data = response.json()['changes']\n",
    "                changelog = []\n",
    "                for row in Data:\n",
    "                    if row['workspaceChange'] == 'Added':\n",
    "                        changelog.append(row)\n",
    "                print(changelog)\n",
    "    print(f'✅ The workspace is updated')\n",
    "    return changelog   "
   ]
  },
  {
   "cell_type": "markdown",
   "id": "de00523d-1f59-4fe2-bced-3eca736ddb32",
   "metadata": {
    "microsoft": {
     "language": "python",
     "language_group": "synapse_pyspark"
    },
    "nteract": {
     "transient": {
      "deleting": false
     }
    }
   },
   "source": [
    "## Grundläggande"
   ]
  },
  {
   "cell_type": "code",
   "execution_count": null,
   "id": "41938bfe-503b-4d50-81b2-d2154dd938ed",
   "metadata": {
    "microsoft": {
     "language": "python",
     "language_group": "synapse_pyspark"
    }
   },
   "outputs": [
    {
     "data": {
      "application/vnd.livy.statement-meta+json": {
       "execution_finish_time": "2025-10-02T07:42:43.1462685Z",
       "execution_start_time": "2025-10-02T07:42:42.2170524Z",
       "livy_statement_state": "available",
       "normalized_state": "finished",
       "parent_msg_id": "fd893034-b4ed-430b-b3eb-0c4310fa2886",
       "queued_time": "2025-10-02T07:42:42.2159148Z",
       "session_id": "628282f3-2bf5-4789-a4d8-c327eee03b0a",
       "session_start_time": null,
       "spark_pool": null,
       "state": "finished",
       "statement_id": 16,
       "statement_ids": [
        16
       ]
      },
      "text/plain": [
       "StatementMeta(, 628282f3-2bf5-4789-a4d8-c327eee03b0a, 16, Finished, Available, Finished)"
      ]
     },
     "metadata": {},
     "output_type": "display_data"
    }
   ],
   "source": [
    "organization = \"organizationName\"\n",
    "project = 'DevOpsProjectId'\n",
    "team = 'DevOpsTeamId'\n",
    "repository_id = \"DevOpsRepositoryId\"\n",
    "personal_access_token = notebookutils.credentials.getSecret(\"YourKeyvault\", \"DevOpsAccessKey\")\n",
    "\n",
    "# Base64 encode for Basic Auth\n",
    "credentials = f\":{personal_access_token}\"\n",
    "token = base64.b64encode(credentials.encode()).decode()\n",
    "\n",
    "headers = {\n",
    "    'Authorization': f'Basic {token}',\n",
    "    'Content-Type': 'application/json'\n",
    "}"
   ]
  },
  {
   "cell_type": "code",
   "execution_count": null,
   "id": "e0e4622f-1f8e-4e1e-a01a-10277a7a2bee",
   "metadata": {
    "microsoft": {
     "language": "python",
     "language_group": "synapse_pyspark"
    }
   },
   "outputs": [
    {
     "data": {
      "application/vnd.livy.statement-meta+json": {
       "execution_finish_time": "2025-10-02T07:42:43.8055895Z",
       "execution_start_time": "2025-10-02T07:42:43.5279245Z",
       "livy_statement_state": "available",
       "normalized_state": "finished",
       "parent_msg_id": "dabf1629-e1fa-42f1-8d02-1905d8eeb3f0",
       "queued_time": "2025-10-02T07:42:43.5268695Z",
       "session_id": "628282f3-2bf5-4789-a4d8-c327eee03b0a",
       "session_start_time": null,
       "spark_pool": null,
       "state": "finished",
       "statement_id": 17,
       "statement_ids": [
        17
       ]
      },
      "text/plain": [
       "StatementMeta(, 628282f3-2bf5-4789-a4d8-c327eee03b0a, 17, Finished, Available, Finished)"
      ]
     },
     "metadata": {},
     "output_type": "display_data"
    }
   ],
   "source": [
    "new_branch_name = \"BRANCHNAME\"\n",
    "NewWorkspaceName = \"WORKSPACENAME\""
   ]
  },
  {
   "cell_type": "code",
   "execution_count": 16,
   "id": "2463e05c-2819-4880-95f3-89d6ce4606a6",
   "metadata": {
    "microsoft": {
     "language": "python",
     "language_group": "synapse_pyspark"
    }
   },
   "outputs": [
    {
     "data": {
      "application/vnd.livy.statement-meta+json": {
       "execution_finish_time": "2025-10-02T07:42:44.9721087Z",
       "execution_start_time": "2025-10-02T07:42:44.2160616Z",
       "livy_statement_state": "available",
       "normalized_state": "finished",
       "parent_msg_id": "5c2ed377-ba83-432d-b2ea-b5c38ec8a72e",
       "queued_time": "2025-10-02T07:42:44.214906Z",
       "session_id": "628282f3-2bf5-4789-a4d8-c327eee03b0a",
       "session_start_time": null,
       "spark_pool": null,
       "state": "finished",
       "statement_id": 18,
       "statement_ids": [
        18
       ]
      },
      "text/plain": [
       "StatementMeta(, 628282f3-2bf5-4789-a4d8-c327eee03b0a, 18, Finished, Available, Finished)"
      ]
     },
     "metadata": {},
     "output_type": "display_data"
    }
   ],
   "source": [
    "#Get the last commit from the main you want to branch out from\n",
    "refs_url = f\"https://dev.azure.com/{organization}/{project}/_apis/git/repositories/{repository_id}/refs?filter=heads/main&api-version=6.0\"\n",
    "refs_response = requests.get(refs_url, headers=headers)\n",
    "main_commit_id = refs_response.json()[\"value\"][0][\"objectId\"]\n"
   ]
  },
  {
   "cell_type": "code",
   "execution_count": 17,
   "id": "597fa603-0580-4cfd-b7d6-3e01e4ac49ea",
   "metadata": {
    "microsoft": {
     "language": "python",
     "language_group": "synapse_pyspark"
    }
   },
   "outputs": [
    {
     "data": {
      "application/vnd.livy.statement-meta+json": {
       "execution_finish_time": "2025-10-02T07:42:45.8328482Z",
       "execution_start_time": "2025-10-02T07:42:44.9742729Z",
       "livy_statement_state": "available",
       "normalized_state": "finished",
       "parent_msg_id": "97d101f1-d2c7-4a28-88fa-ad15b376e3e6",
       "queued_time": "2025-10-02T07:42:44.8127327Z",
       "session_id": "628282f3-2bf5-4789-a4d8-c327eee03b0a",
       "session_start_time": null,
       "spark_pool": null,
       "state": "finished",
       "statement_id": 19,
       "statement_ids": [
        19
       ]
      },
      "text/plain": [
       "StatementMeta(, 628282f3-2bf5-4789-a4d8-c327eee03b0a, 19, Finished, Available, Finished)"
      ]
     },
     "metadata": {},
     "output_type": "display_data"
    },
    {
     "name": "stdout",
     "output_type": "stream",
     "text": [
      "200\n"
     ]
    },
    {
     "data": {
      "text/plain": [
       "{'value': [{'repositoryId': '9ab78a1a-e04e-4d22-ba1a-fb8c01358f6c',\n",
       "   'name': 'refs/heads/feature/Henriksbranch',\n",
       "   'oldObjectId': '0000000000000000000000000000000000000000',\n",
       "   'newObjectId': '66a4f4526a63b34c6eb913b6a2f1275da060136b',\n",
       "   'isLocked': False,\n",
       "   'updateStatus': 'succeeded',\n",
       "   'success': True}],\n",
       " 'count': 1}"
      ]
     },
     "execution_count": 56,
     "metadata": {},
     "output_type": "execute_result"
    }
   ],
   "source": [
    "#Create Branch\n",
    "payload = [{\n",
    "        \"name\": f\"refs/heads/feature/{new_branch_name}\",\n",
    "        \"oldObjectId\": \"0000000000000000000000000000000000000000\",\n",
    "        \"newObjectId\": main_commit_id\n",
    "  }]\n",
    "\n",
    "response = requests.post(f'https://dev.azure.com/{organization}/{project}/_apis/git/repositories/{repository_id}/refs?api-version=7.1', headers=headers, json=payload)\n",
    "print(response.status_code)\n",
    "response.json()"
   ]
  },
  {
   "cell_type": "code",
   "execution_count": null,
   "id": "df02e5e9-e4ab-45cd-a622-c948df1745ff",
   "metadata": {
    "microsoft": {
     "language": "python",
     "language_group": "synapse_pyspark"
    }
   },
   "outputs": [],
   "source": [
    "#Create a workspace, I just ran a list workspace to get the Capacity ID info\n",
    "body = {\n",
    "  \"displayName\": NewWorkspaceName,\n",
    "  \"capacityId\": \"Your Capacity ID\",\n",
    "  \"capacityRegion\": \"North Europe\",\n",
    "}\n",
    "\n",
    "response = client.post(f\"https://api.fabric.microsoft.com/v1/workspaces\", json = body)\n",
    "response.status_code\n",
    "workspaceId = response.json().get('id')\n",
    "\n",
    "#Connect to Branch\n",
    "body = {\n",
    "  \"gitProviderDetails\": {\n",
    "    \"organizationName\": \"DevOps OrganisationName\",\n",
    "    \"projectName\": \"DevOps ProjectName\",\n",
    "    \"gitProviderType\": \"AzureDevOps\",\n",
    "    \"repositoryName\": \"repositoryName\",\n",
    "    \"branchName\":f\"feature/{new_branch_name}\",\n",
    "    \"directoryName\": \"\"\n",
    "  }\n",
    "}\n",
    "\n",
    "response = client.post(f'https://api.fabric.microsoft.com/v1/workspaces/{workspaceId}/git/connect', json = body)\n",
    "response.status_code"
   ]
  },
  {
   "cell_type": "code",
   "execution_count": null,
   "id": "541a5c07-03a7-4586-bb02-c18bcf878655",
   "metadata": {
    "microsoft": {
     "language": "python",
     "language_group": "synapse_pyspark"
    }
   },
   "outputs": [],
   "source": [
    "#Create a connection\n",
    "response = client.post(f'https://api.fabric.microsoft.com/v1/workspaces/{workspaceId}/git/initializeConnection')\n",
    "response.json()"
   ]
  },
  {
   "cell_type": "code",
   "execution_count": null,
   "id": "e7f59b95-7be9-4354-8daa-d2fdb45b9f71",
   "metadata": {
    "microsoft": {
     "language": "python",
     "language_group": "synapse_pyspark"
    }
   },
   "outputs": [],
   "source": [
    "#Update from Git\n",
    "body = {\n",
    "  \"workspaceHead\": None,\n",
    "  \"remoteCommitHash\": \"66a4f4526a63b34c6eb913b6a2f1275da060136b\",\n",
    "  \"conflictResolution\": {\n",
    "    \"conflictResolutionType\": \"Workspace\",\n",
    "    \"conflictResolutionPolicy\": \"PreferWorkspace\"\n",
    "  },\n",
    "  \"options\": {\n",
    "    \"allowOverrideItems\": True\n",
    "  }\n",
    "}\n",
    "\n",
    "response = client.post(f'https://api.fabric.microsoft.com/v1/workspaces/{workspaceId}/git/updateFromGit', json = body)\n",
    "response.status_code"
   ]
  },
  {
   "cell_type": "code",
   "execution_count": 28,
   "id": "f9a4ce8e-fe96-4ca3-a74b-f0252dada2b2",
   "metadata": {
    "microsoft": {
     "language": "python",
     "language_group": "synapse_pyspark"
    }
   },
   "outputs": [
    {
     "data": {
      "application/vnd.livy.statement-meta+json": {
       "execution_finish_time": "2025-10-02T08:08:43.4723251Z",
       "execution_start_time": "2025-10-02T07:47:58.419814Z",
       "livy_statement_state": "available",
       "normalized_state": "finished",
       "parent_msg_id": "f09d1e73-b051-4ff1-add7-7533533fbfce",
       "queued_time": "2025-10-02T07:47:58.4188256Z",
       "session_id": "628282f3-2bf5-4789-a4d8-c327eee03b0a",
       "session_start_time": null,
       "spark_pool": null,
       "state": "finished",
       "statement_id": 30,
       "statement_ids": [
        30
       ]
      },
      "text/plain": [
       "StatementMeta(, 628282f3-2bf5-4789-a4d8-c327eee03b0a, 30, Finished, Available, Finished)"
      ]
     },
     "metadata": {},
     "output_type": "display_data"
    },
    {
     "name": "stdout",
     "output_type": "stream",
     "text": [
      "✅ JSON-fil redo\n"
     ]
    },
    {
     "data": {
      "text/plain": [
       "[]"
      ]
     },
     "execution_count": 89,
     "metadata": {},
     "output_type": "execute_result"
    }
   ],
   "source": [
    "git_sync_checker(workspaceId)"
   ]
  }
 ],
 "metadata": {
  "dependencies": {},
  "kernel_info": {
   "name": "synapse_pyspark"
  },
  "kernelspec": {
   "display_name": "synapse_pyspark",
   "name": "synapse_pyspark"
  },
  "language_info": {
   "name": "python"
  },
  "microsoft": {
   "language": "python",
   "language_group": "synapse_pyspark",
   "ms_spell_check": {
    "ms_spell_check_language": "en"
   }
  },
  "nteract": {
   "version": "nteract-front-end@1.0.0"
  },
  "spark_compute": {
   "compute_id": "/trident/default",
   "session_options": {
    "conf": {
     "spark.synapse.nbs.session.timeout": "1200000"
    }
   }
  }
 },
 "nbformat": 4,
 "nbformat_minor": 5
}
